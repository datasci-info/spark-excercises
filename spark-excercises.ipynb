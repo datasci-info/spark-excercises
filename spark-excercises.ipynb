{
 "cells": [
  {
   "cell_type": "markdown",
   "metadata": {},
   "source": [
    "- https://towardsdatascience.com/six-spark-exercises-to-rule-them-all-242445b24565\n",
    "- https://intellipaat.com/community/6443/how-to-optimize-shuffle-spill-in-apache-spark-application#:~:text=Spark%201.4%20has%20some%20better,available%20for%20the%20shuffle%20buffer.&text=Increase%20the%20memory%20in%20your,executor."
   ]
  },
  {
   "cell_type": "code",
   "execution_count": 1,
   "metadata": {
    "ExecuteTime": {
     "end_time": "2020-08-31T14:17:08.372443Z",
     "start_time": "2020-08-31T14:17:08.173275Z"
    }
   },
   "outputs": [],
   "source": [
    "import pyspark"
   ]
  },
  {
   "cell_type": "code",
   "execution_count": 2,
   "metadata": {
    "ExecuteTime": {
     "end_time": "2020-08-31T14:17:08.381777Z",
     "start_time": "2020-08-31T14:17:08.374280Z"
    }
   },
   "outputs": [
    {
     "data": {
      "text/plain": [
       "'/opt/spark/python/pyspark/__init__.py'"
      ]
     },
     "execution_count": 2,
     "metadata": {},
     "output_type": "execute_result"
    }
   ],
   "source": [
    "pyspark.__file__"
   ]
  },
  {
   "cell_type": "code",
   "execution_count": 3,
   "metadata": {
    "ExecuteTime": {
     "end_time": "2020-08-31T14:17:08.403361Z",
     "start_time": "2020-08-31T14:17:08.384671Z"
    }
   },
   "outputs": [],
   "source": [
    "from pyspark.sql import SparkSession"
   ]
  },
  {
   "cell_type": "code",
   "execution_count": 4,
   "metadata": {
    "ExecuteTime": {
     "end_time": "2020-08-31T14:17:11.750648Z",
     "start_time": "2020-08-31T14:17:08.406049Z"
    }
   },
   "outputs": [],
   "source": [
    "spark = (\n",
    "    SparkSession\n",
    "    .builder\n",
    "    .master('local[*]')\n",
    "    .config(\n",
    "        'spark.sql.shuffle.partitions',\n",
    "        '400'\n",
    "    )\n",
    "    .config(\"spark.sql.autoBroadcastJoinThreshold\", -1)\n",
    "    .config('spark.driver.memory', '5g')\n",
    "    .appName('hello-spark')\n",
    "    .getOrCreate()\n",
    ")"
   ]
  },
  {
   "cell_type": "code",
   "execution_count": 5,
   "metadata": {
    "ExecuteTime": {
     "end_time": "2020-08-31T14:17:11.760172Z",
     "start_time": "2020-08-31T14:17:11.753761Z"
    }
   },
   "outputs": [
    {
     "data": {
      "text/html": [
       "\n",
       "            <div>\n",
       "                <p><b>SparkSession - in-memory</b></p>\n",
       "                \n",
       "        <div>\n",
       "            <p><b>SparkContext</b></p>\n",
       "\n",
       "            <p><a href=\"http://114-36-22-91.dynamic-ip.hinet.net:4040\">Spark UI</a></p>\n",
       "\n",
       "            <dl>\n",
       "              <dt>Version</dt>\n",
       "                <dd><code>v3.0.0</code></dd>\n",
       "              <dt>Master</dt>\n",
       "                <dd><code>local[*]</code></dd>\n",
       "              <dt>AppName</dt>\n",
       "                <dd><code>hello-spark</code></dd>\n",
       "            </dl>\n",
       "        </div>\n",
       "        \n",
       "            </div>\n",
       "        "
      ],
      "text/plain": [
       "<pyspark.sql.session.SparkSession at 0x7fa4f5d8cc18>"
      ]
     },
     "execution_count": 5,
     "metadata": {},
     "output_type": "execute_result"
    }
   ],
   "source": [
    "spark"
   ]
  },
  {
   "cell_type": "markdown",
   "metadata": {},
   "source": [
    "## Warmup 1"
   ]
  },
  {
   "cell_type": "code",
   "execution_count": 6,
   "metadata": {
    "ExecuteTime": {
     "end_time": "2020-08-31T14:17:13.774124Z",
     "start_time": "2020-08-31T14:17:11.761140Z"
    }
   },
   "outputs": [
    {
     "name": "stdout",
     "output_type": "stream",
     "text": [
      "root\n",
      " |-- product_id: string (nullable = true)\n",
      " |-- product_name: string (nullable = true)\n",
      " |-- price: string (nullable = true)\n",
      "\n"
     ]
    }
   ],
   "source": [
    "sdf_products = spark.read.parquet('./products_parquet')\n",
    "sdf_products.printSchema()"
   ]
  },
  {
   "cell_type": "code",
   "execution_count": 7,
   "metadata": {
    "ExecuteTime": {
     "end_time": "2020-08-31T14:17:13.841520Z",
     "start_time": "2020-08-31T14:17:13.775442Z"
    }
   },
   "outputs": [
    {
     "name": "stdout",
     "output_type": "stream",
     "text": [
      "root\n",
      " |-- seller_id: string (nullable = true)\n",
      " |-- seller_name: string (nullable = true)\n",
      " |-- daily_target: string (nullable = true)\n",
      "\n"
     ]
    }
   ],
   "source": [
    "sdf_seller = spark.read.parquet('./sellers_parquet//')\n",
    "sdf_seller.printSchema()"
   ]
  },
  {
   "cell_type": "code",
   "execution_count": 8,
   "metadata": {
    "ExecuteTime": {
     "end_time": "2020-08-31T14:17:13.939839Z",
     "start_time": "2020-08-31T14:17:13.842613Z"
    }
   },
   "outputs": [
    {
     "name": "stdout",
     "output_type": "stream",
     "text": [
      "root\n",
      " |-- order_id: string (nullable = true)\n",
      " |-- product_id: string (nullable = true)\n",
      " |-- seller_id: string (nullable = true)\n",
      " |-- date: string (nullable = true)\n",
      " |-- num_pieces_sold: string (nullable = true)\n",
      " |-- bill_raw_text: string (nullable = true)\n",
      "\n"
     ]
    }
   ],
   "source": [
    "sdf_order = spark.read.parquet(\"./sales_parquet/\")\n",
    "sdf_order.printSchema()"
   ]
  },
  {
   "cell_type": "code",
   "execution_count": 9,
   "metadata": {
    "ExecuteTime": {
     "end_time": "2020-08-29T02:16:59.034546Z",
     "start_time": "2020-08-29T02:16:42.597010Z"
    },
    "deletable": false,
    "editable": false,
    "run_control": {
     "frozen": true
    }
   },
   "outputs": [
    {
     "data": {
      "text/plain": [
       "75000000"
      ]
     },
     "execution_count": 9,
     "metadata": {},
     "output_type": "execute_result"
    }
   ],
   "source": [
    "sdf_products.select('product_id').distinct().count()"
   ]
  },
  {
   "cell_type": "code",
   "execution_count": 10,
   "metadata": {
    "ExecuteTime": {
     "end_time": "2020-08-29T02:16:59.466893Z",
     "start_time": "2020-08-29T02:16:59.035896Z"
    },
    "deletable": false,
    "editable": false,
    "run_control": {
     "frozen": true
    }
   },
   "outputs": [
    {
     "data": {
      "text/plain": [
       "10"
      ]
     },
     "execution_count": 10,
     "metadata": {},
     "output_type": "execute_result"
    }
   ],
   "source": [
    "sdf_seller.select('seller_id').distinct().count()"
   ]
  },
  {
   "cell_type": "code",
   "execution_count": 11,
   "metadata": {
    "ExecuteTime": {
     "end_time": "2020-08-29T02:17:02.054871Z",
     "start_time": "2020-08-29T02:16:59.468147Z"
    },
    "deletable": false,
    "editable": false,
    "run_control": {
     "frozen": true
    }
   },
   "outputs": [
    {
     "data": {
      "text/plain": [
       "20000040"
      ]
     },
     "execution_count": 11,
     "metadata": {},
     "output_type": "execute_result"
    }
   ],
   "source": [
    "sdf_order.select('order_id').distinct().count()"
   ]
  },
  {
   "cell_type": "markdown",
   "metadata": {},
   "source": [
    "## Warm Up 2"
   ]
  },
  {
   "cell_type": "code",
   "execution_count": 9,
   "metadata": {
    "ExecuteTime": {
     "end_time": "2020-08-31T14:17:13.954920Z",
     "start_time": "2020-08-31T14:17:13.941219Z"
    }
   },
   "outputs": [],
   "source": [
    "from pyspark.sql import functions as F\n",
    "\n",
    "c = F.col"
   ]
  },
  {
   "cell_type": "code",
   "execution_count": 13,
   "metadata": {
    "ExecuteTime": {
     "end_time": "2020-08-29T02:17:03.713570Z",
     "start_time": "2020-08-29T02:17:02.072148Z"
    },
    "deletable": false,
    "editable": false,
    "run_control": {
     "frozen": true
    }
   },
   "outputs": [
    {
     "name": "stdout",
     "output_type": "stream",
     "text": [
      "+----------+----------------+\n",
      "|      date|uniq_product_cnt|\n",
      "+----------+----------------+\n",
      "|2020-07-10|          100218|\n",
      "|2020-07-09|           99801|\n",
      "|2020-07-06|           99869|\n",
      "|2020-07-02|           99768|\n",
      "|2020-07-03|          100224|\n",
      "|2020-07-07|           99453|\n",
      "|2020-07-01|           99755|\n",
      "|2020-07-08|          100048|\n",
      "|2020-07-04|          100294|\n",
      "|2020-07-05|           99991|\n",
      "+----------+----------------+\n",
      "\n"
     ]
    }
   ],
   "source": [
    "sdf_order.groupBy('date').agg(\n",
    "    F.countDistinct('product_id').alias('uniq_product_cnt')\n",
    ").show(30)"
   ]
  },
  {
   "cell_type": "markdown",
   "metadata": {},
   "source": [
    "## Excercise 1"
   ]
  },
  {
   "cell_type": "code",
   "execution_count": 14,
   "metadata": {
    "ExecuteTime": {
     "end_time": "2020-08-29T02:17:03.717817Z",
     "start_time": "2020-08-29T02:17:03.714887Z"
    },
    "deletable": false,
    "editable": false,
    "run_control": {
     "frozen": true
    }
   },
   "outputs": [
    {
     "name": "stdout",
     "output_type": "stream",
     "text": [
      "root\n",
      " |-- order_id: string (nullable = true)\n",
      " |-- product_id: string (nullable = true)\n",
      " |-- seller_id: string (nullable = true)\n",
      " |-- date: string (nullable = true)\n",
      " |-- num_pieces_sold: string (nullable = true)\n",
      " |-- bill_raw_text: string (nullable = true)\n",
      "\n"
     ]
    }
   ],
   "source": [
    "sdf_order.printSchema()"
   ]
  },
  {
   "cell_type": "code",
   "execution_count": 15,
   "metadata": {
    "ExecuteTime": {
     "end_time": "2020-08-29T02:17:03.739650Z",
     "start_time": "2020-08-29T02:17:03.719427Z"
    },
    "deletable": false,
    "editable": false,
    "run_control": {
     "frozen": true
    }
   },
   "outputs": [
    {
     "name": "stdout",
     "output_type": "stream",
     "text": [
      "root\n",
      " |-- product_id: string (nullable = true)\n",
      " |-- product_name: string (nullable = true)\n",
      " |-- price: string (nullable = true)\n",
      "\n"
     ]
    }
   ],
   "source": [
    "sdf_products.printSchema()"
   ]
  },
  {
   "cell_type": "code",
   "execution_count": 16,
   "metadata": {
    "ExecuteTime": {
     "end_time": "2020-08-29T02:17:24.166697Z",
     "start_time": "2020-08-29T02:17:03.741359Z"
    },
    "deletable": false,
    "editable": false,
    "run_control": {
     "frozen": true
    }
   },
   "outputs": [
    {
     "name": "stdout",
     "output_type": "stream",
     "text": [
      "+------------------+\n",
      "|       avg_revenue|\n",
      "+------------------+\n",
      "|1245.9236386027228|\n",
      "+------------------+\n",
      "\n"
     ]
    }
   ],
   "source": [
    "sdf_order.select(\n",
    "    'product_id', 'num_pieces_sold'\n",
    ").join(\n",
    "    sdf_products.select('product_id', 'price'),\n",
    "    on='product_id',\n",
    "    how='left'\n",
    ").withColumn(\n",
    "    'revenue',\n",
    "    c('num_pieces_sold').cast('float')*c('price').cast('float')\n",
    ").groupBy().agg(\n",
    "    F.avg('revenue').alias('avg_revenue')\n",
    ").show()"
   ]
  },
  {
   "cell_type": "markdown",
   "metadata": {},
   "source": [
    "### salting"
   ]
  },
  {
   "cell_type": "code",
   "execution_count": 17,
   "metadata": {
    "ExecuteTime": {
     "end_time": "2020-08-29T02:17:24.255831Z",
     "start_time": "2020-08-29T02:17:24.168211Z"
    },
    "deletable": false,
    "editable": false,
    "run_control": {
     "frozen": true
    }
   },
   "outputs": [],
   "source": [
    "sdf_order_salted = (\n",
    "    sdf_order.select(\n",
    "        'product_id',\n",
    "        'num_pieces_sold'\n",
    "    ).withColumn(\n",
    "        'salt-key',\n",
    "        F.concat_ws('-', 'product_id', F.floor(F.rand() * 10).cast('string'))\n",
    "    )\n",
    ")"
   ]
  },
  {
   "cell_type": "code",
   "execution_count": 18,
   "metadata": {
    "ExecuteTime": {
     "end_time": "2020-08-29T02:17:24.745134Z",
     "start_time": "2020-08-29T02:17:24.256924Z"
    },
    "deletable": false,
    "editable": false,
    "run_control": {
     "frozen": true
    }
   },
   "outputs": [],
   "source": [
    "sdf_products_salted = (\n",
    "    sdf_products\n",
    "    .select('product_id', 'price')\n",
    "    .withColumn(\n",
    "        'salts',\n",
    "        F.array([F.lit(f'{i}') for i in range(10)])\n",
    "    ).withColumn(\n",
    "        'salt',\n",
    "        F.explode('salts')\n",
    "    )\n",
    "    .withColumn(\n",
    "        'salt-key',\n",
    "        F.concat_ws('-', 'product_id', 'salt')\n",
    "    )\n",
    "    .drop('salt', 'salts')\n",
    ")"
   ]
  },
  {
   "cell_type": "code",
   "execution_count": 21,
   "metadata": {
    "ExecuteTime": {
     "end_time": "2020-08-29T02:24:28.326979Z",
     "start_time": "2020-08-29T02:23:01.481850Z"
    },
    "deletable": false,
    "editable": false,
    "run_control": {
     "frozen": true
    }
   },
   "outputs": [
    {
     "name": "stdout",
     "output_type": "stream",
     "text": [
      "+------------------+\n",
      "|       avg_revenue|\n",
      "+------------------+\n",
      "|1245.9236386027228|\n",
      "+------------------+\n",
      "\n"
     ]
    }
   ],
   "source": [
    "sdf_order_salted.join(\n",
    "    sdf_products_salted,\n",
    "    on='salt-key',\n",
    "    how='left'\n",
    ").withColumn(\n",
    "    'revenue',\n",
    "    c('price').cast('float') * c('num_pieces_sold').cast('float')\n",
    ").coalesce(\n",
    "    400\n",
    ").groupBy().agg(\n",
    "    F.avg('revenue').alias('avg_revenue')\n",
    ").show()"
   ]
  },
  {
   "cell_type": "markdown",
   "metadata": {},
   "source": [
    "## Excercise 2"
   ]
  },
  {
   "cell_type": "code",
   "execution_count": 10,
   "metadata": {
    "ExecuteTime": {
     "end_time": "2020-08-31T14:17:14.218742Z",
     "start_time": "2020-08-31T14:17:14.213853Z"
    }
   },
   "outputs": [
    {
     "name": "stdout",
     "output_type": "stream",
     "text": [
      "root\n",
      " |-- order_id: string (nullable = true)\n",
      " |-- product_id: string (nullable = true)\n",
      " |-- seller_id: string (nullable = true)\n",
      " |-- date: string (nullable = true)\n",
      " |-- num_pieces_sold: string (nullable = true)\n",
      " |-- bill_raw_text: string (nullable = true)\n",
      "\n"
     ]
    }
   ],
   "source": [
    "sdf_order.printSchema()"
   ]
  },
  {
   "cell_type": "code",
   "execution_count": 11,
   "metadata": {
    "ExecuteTime": {
     "end_time": "2020-08-31T14:17:14.453611Z",
     "start_time": "2020-08-31T14:17:14.447728Z"
    }
   },
   "outputs": [
    {
     "name": "stdout",
     "output_type": "stream",
     "text": [
      "root\n",
      " |-- seller_id: string (nullable = true)\n",
      " |-- seller_name: string (nullable = true)\n",
      " |-- daily_target: string (nullable = true)\n",
      "\n"
     ]
    }
   ],
   "source": [
    "sdf_seller.printSchema()"
   ]
  },
  {
   "cell_type": "code",
   "execution_count": 12,
   "metadata": {
    "ExecuteTime": {
     "end_time": "2020-08-31T14:17:14.687780Z",
     "start_time": "2020-08-31T14:17:14.683839Z"
    }
   },
   "outputs": [],
   "source": [
    "spark.conf.set(\"spark.sql.autoBroadcastJoinThreshold\", '-1')"
   ]
  },
  {
   "cell_type": "code",
   "execution_count": 14,
   "metadata": {
    "ExecuteTime": {
     "end_time": "2020-08-31T02:41:48.733718Z",
     "start_time": "2020-08-31T02:41:37.351304Z"
    },
    "deletable": false,
    "editable": false,
    "run_control": {
     "frozen": true
    }
   },
   "outputs": [
    {
     "name": "stdout",
     "output_type": "stream",
     "text": [
      "+---------+--------------------+\n",
      "|seller_id|          avg(ratio)|\n",
      "+---------+--------------------+\n",
      "|        3|7.060842894390445E-4|\n",
      "|        0| 2.01973622529017E-5|\n",
      "|        4|3.845384604576898...|\n",
      "|        7|8.510553537464244E-5|\n",
      "|        8|0.002071646546208...|\n",
      "|        5|8.038980497173663E-5|\n",
      "|        6|2.534518215186249...|\n",
      "|        9|1.449276275189615E-4|\n",
      "|        1|3.670188787905763...|\n",
      "|        2|2.456721945951509E-4|\n",
      "+---------+--------------------+\n",
      "\n"
     ]
    }
   ],
   "source": [
    "sdf_order.select('seller_id', 'num_pieces_sold').join(\n",
    "    sdf_seller,\n",
    "    on='seller_id'\n",
    ").withColumn(\n",
    "    'ratio',\n",
    "    c('num_pieces_sold') / c('daily_target')\n",
    ").groupBy(\n",
    "    'seller_id'\n",
    ").agg(\n",
    "    F.avg('ratio')\n",
    ").show()"
   ]
  },
  {
   "cell_type": "code",
   "execution_count": 16,
   "metadata": {
    "ExecuteTime": {
     "end_time": "2020-08-31T02:44:06.719492Z",
     "start_time": "2020-08-31T02:44:06.628094Z"
    },
    "deletable": false,
    "editable": false,
    "run_control": {
     "frozen": true
    }
   },
   "outputs": [
    {
     "data": {
      "text/plain": [
       "10"
      ]
     },
     "execution_count": 16,
     "metadata": {},
     "output_type": "execute_result"
    }
   ],
   "source": [
    "sdf_seller.count()"
   ]
  },
  {
   "cell_type": "code",
   "execution_count": 17,
   "metadata": {
    "ExecuteTime": {
     "end_time": "2020-08-31T02:44:25.990934Z",
     "start_time": "2020-08-31T02:44:24.449871Z"
    },
    "deletable": false,
    "editable": false,
    "run_control": {
     "frozen": true
    }
   },
   "outputs": [
    {
     "name": "stdout",
     "output_type": "stream",
     "text": [
      "+---------+--------------------+\n",
      "|seller_id|          avg(ratio)|\n",
      "+---------+--------------------+\n",
      "|        3|7.060842894390356E-4|\n",
      "|        0|2.019736225262708E-5|\n",
      "|        4|3.845384604576818E-5|\n",
      "|        7|8.510553537463733E-5|\n",
      "|        8|0.002071646546208...|\n",
      "|        5|8.038980497175858E-5|\n",
      "|        6|2.534518215186312...|\n",
      "|        9|1.449276275189590...|\n",
      "|        1|3.670188787904605E-5|\n",
      "|        2|2.456721945951487E-4|\n",
      "+---------+--------------------+\n",
      "\n"
     ]
    }
   ],
   "source": [
    "sdf_order.select('seller_id', 'num_pieces_sold').join(\n",
    "    F.broadcast(sdf_seller.select('seller_id', 'daily_target')),\n",
    "    on='seller_id'\n",
    ").withColumn(\n",
    "    'ratio',\n",
    "    c('num_pieces_sold') / c('daily_target')\n",
    ").groupBy(\n",
    "    'seller_id'\n",
    ").agg(\n",
    "    F.avg('ratio')\n",
    ").show()"
   ]
  },
  {
   "cell_type": "markdown",
   "metadata": {},
   "source": [
    "## Exercise 3"
   ]
  },
  {
   "cell_type": "code",
   "execution_count": 13,
   "metadata": {
    "ExecuteTime": {
     "end_time": "2020-08-31T14:17:46.951144Z",
     "start_time": "2020-08-31T14:17:46.944959Z"
    }
   },
   "outputs": [
    {
     "name": "stdout",
     "output_type": "stream",
     "text": [
      "root\n",
      " |-- product_id: string (nullable = true)\n",
      " |-- product_name: string (nullable = true)\n",
      " |-- price: string (nullable = true)\n",
      "\n"
     ]
    }
   ],
   "source": [
    "sdf_products.printSchema()"
   ]
  },
  {
   "cell_type": "code",
   "execution_count": 14,
   "metadata": {
    "ExecuteTime": {
     "end_time": "2020-08-31T14:18:00.379995Z",
     "start_time": "2020-08-31T14:18:00.374291Z"
    }
   },
   "outputs": [
    {
     "name": "stdout",
     "output_type": "stream",
     "text": [
      "root\n",
      " |-- seller_id: string (nullable = true)\n",
      " |-- seller_name: string (nullable = true)\n",
      " |-- daily_target: string (nullable = true)\n",
      "\n"
     ]
    }
   ],
   "source": [
    "sdf_seller.printSchema()"
   ]
  },
  {
   "cell_type": "code",
   "execution_count": 16,
   "metadata": {
    "ExecuteTime": {
     "end_time": "2020-08-31T14:18:04.307692Z",
     "start_time": "2020-08-31T14:18:04.303290Z"
    }
   },
   "outputs": [
    {
     "name": "stdout",
     "output_type": "stream",
     "text": [
      "root\n",
      " |-- order_id: string (nullable = true)\n",
      " |-- product_id: string (nullable = true)\n",
      " |-- seller_id: string (nullable = true)\n",
      " |-- date: string (nullable = true)\n",
      " |-- num_pieces_sold: string (nullable = true)\n",
      " |-- bill_raw_text: string (nullable = true)\n",
      "\n"
     ]
    }
   ],
   "source": [
    "sdf_order.printSchema()"
   ]
  },
  {
   "cell_type": "code",
   "execution_count": 20,
   "metadata": {
    "ExecuteTime": {
     "end_time": "2020-08-31T14:21:22.272394Z",
     "start_time": "2020-08-31T14:21:22.269447Z"
    }
   },
   "outputs": [],
   "source": [
    "from pyspark.sql.window import Window"
   ]
  },
  {
   "cell_type": "code",
   "execution_count": 23,
   "metadata": {
    "ExecuteTime": {
     "end_time": "2020-08-31T14:23:18.893161Z",
     "start_time": "2020-08-31T14:23:18.886017Z"
    }
   },
   "outputs": [
    {
     "name": "stdout",
     "output_type": "stream",
     "text": [
      "Object `orderBy` not found.\n"
     ]
    }
   ],
   "source": [
    "spec = Window.orderBy('total_pieces').partitionBy('seller_id', 'product_id').orderBy"
   ]
  },
  {
   "cell_type": "code",
   "execution_count": 24,
   "metadata": {
    "ExecuteTime": {
     "end_time": "2020-08-31T14:24:15.282868Z",
     "start_time": "2020-08-31T14:24:15.265441Z"
    }
   },
   "outputs": [],
   "source": [
    "spec = Window.orderBy('total_pieces').partitionBy('seller_id', 'product_id')"
   ]
  },
  {
   "cell_type": "code",
   "execution_count": 31,
   "metadata": {
    "ExecuteTime": {
     "end_time": "2020-08-31T14:31:05.498695Z",
     "start_time": "2020-08-31T14:31:05.438934Z"
    }
   },
   "outputs": [],
   "source": [
    "sdf_ex3 = (\n",
    "    sdf_order\n",
    "    .groupBy('seller_id', 'product_id')\n",
    "    .agg(\n",
    "        F.sum('num_pieces_sold').alias('total_pieces')\n",
    "    )\n",
    "    .withColumn(\n",
    "        'rank_desc',\n",
    "        F.dense_rank().over(spec.orderBy(c('total_pieces').desc()))\n",
    "    )\n",
    "    .withColumn(\n",
    "        'rank_asc',\n",
    "        F.dense_rank().over(spec.orderBy(c('total_pieces').asc()))\n",
    "    )\n",
    "    .filter(\n",
    "        (c('rank_desc') == 2) | (c('rank_asc') == 1)\n",
    "    )\n",
    ")"
   ]
  },
  {
   "cell_type": "code",
   "execution_count": 32,
   "metadata": {
    "ExecuteTime": {
     "end_time": "2020-08-31T14:31:06.916760Z",
     "start_time": "2020-08-31T14:31:06.018672Z"
    }
   },
   "outputs": [
    {
     "name": "stdout",
     "output_type": "stream",
     "text": [
      "+---------+----------+------------+---------+--------+\n",
      "|seller_id|product_id|total_pieces|rank_desc|rank_asc|\n",
      "+---------+----------+------------+---------+--------+\n",
      "|        1|  10236486|        13.0|        1|       1|\n",
      "|        1|  10412465|        26.0|        1|       1|\n",
      "|        1|  11343368|         2.0|        1|       1|\n",
      "|        1|  11512358|        34.0|        1|       1|\n",
      "|        1|  11624101|        87.0|        1|       1|\n",
      "|        1|  11946844|        68.0|        1|       1|\n",
      "|        1|  12318852|        94.0|        1|       1|\n",
      "|        1|  12741803|        28.0|        1|       1|\n",
      "|        1|  12810525|        13.0|        1|       1|\n",
      "|        1|  13129262|        34.0|        1|       1|\n",
      "|        1|  13334833|        73.0|        1|       1|\n",
      "|        1|  13426415|        45.0|        1|       1|\n",
      "|        1|  13434379|        17.0|        1|       1|\n",
      "|        1|   1347749|        74.0|        1|       1|\n",
      "|        1|  13629474|        65.0|        1|       1|\n",
      "|        1|  13770754|        55.0|        1|       1|\n",
      "|        1|  13851122|        11.0|        1|       1|\n",
      "|        1|  13893070|        52.0|        1|       1|\n",
      "|        1|  13941296|        20.0|        1|       1|\n",
      "|        1|  14248042|        82.0|        1|       1|\n",
      "+---------+----------+------------+---------+--------+\n",
      "only showing top 20 rows\n",
      "\n"
     ]
    }
   ],
   "source": [
    "sdf_ex3.show()"
   ]
  },
  {
   "cell_type": "code",
   "execution_count": 33,
   "metadata": {
    "ExecuteTime": {
     "end_time": "2020-08-31T14:31:09.837390Z",
     "start_time": "2020-08-31T14:31:08.784812Z"
    }
   },
   "outputs": [
    {
     "name": "stdout",
     "output_type": "stream",
     "text": [
      "+---------+----------+------------+---------+--------+\n",
      "|seller_id|product_id|total_pieces|rank_desc|rank_asc|\n",
      "+---------+----------+------------+---------+--------+\n",
      "|        0|         0|9.59374707E8|        1|       1|\n",
      "+---------+----------+------------+---------+--------+\n",
      "\n"
     ]
    }
   ],
   "source": [
    "sdf_ex3.filter(\n",
    "    c('product_id') == 0\n",
    ").show()"
   ]
  },
  {
   "cell_type": "code",
   "execution_count": null,
   "metadata": {},
   "outputs": [],
   "source": []
  }
 ],
 "metadata": {
  "kernelspec": {
   "display_name": "spark",
   "language": "python",
   "name": "spark"
  },
  "language_info": {
   "codemirror_mode": {
    "name": "ipython",
    "version": 3
   },
   "file_extension": ".py",
   "mimetype": "text/x-python",
   "name": "python",
   "nbconvert_exporter": "python",
   "pygments_lexer": "ipython3",
   "version": "3.6.8"
  },
  "toc": {
   "base_numbering": 1,
   "nav_menu": {},
   "number_sections": true,
   "sideBar": true,
   "skip_h1_title": false,
   "title_cell": "Table of Contents",
   "title_sidebar": "Contents",
   "toc_cell": false,
   "toc_position": {},
   "toc_section_display": true,
   "toc_window_display": false
  }
 },
 "nbformat": 4,
 "nbformat_minor": 2
}
