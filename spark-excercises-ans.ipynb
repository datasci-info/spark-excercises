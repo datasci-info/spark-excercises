{
 "cells": [
  {
   "cell_type": "markdown",
   "metadata": {},
   "source": [
    "- https://towardsdatascience.com/six-spark-exercises-to-rule-them-all-242445b24565\n",
    "- https://intellipaat.com/community/6443/how-to-optimize-shuffle-spill-in-apache-spark-application#:~:text=Spark%201.4%20has%20some%20better,available%20for%20the%20shuffle%20buffer.&text=Increase%20the%20memory%20in%20your,executor."
   ]
  },
  {
   "cell_type": "markdown",
   "metadata": {},
   "source": [
    "export SPARK_HOME=/opt/spark"
   ]
  },
  {
   "cell_type": "code",
   "execution_count": 1,
   "metadata": {
    "ExecuteTime": {
     "end_time": "2020-10-08T08:17:52.892150Z",
     "start_time": "2020-10-08T08:17:52.888351Z"
    }
   },
   "outputs": [],
   "source": [
    "import os"
   ]
  },
  {
   "cell_type": "code",
   "execution_count": 2,
   "metadata": {
    "ExecuteTime": {
     "end_time": "2020-10-08T08:17:59.792812Z",
     "start_time": "2020-10-08T08:17:59.789806Z"
    }
   },
   "outputs": [],
   "source": [
    "os.environ['SPARK_HOME'] = '/opt/spark'"
   ]
  },
  {
   "cell_type": "code",
   "execution_count": 3,
   "metadata": {
    "ExecuteTime": {
     "end_time": "2020-10-08T08:18:06.786873Z",
     "start_time": "2020-10-08T08:18:06.783803Z"
    }
   },
   "outputs": [],
   "source": [
    "import findspark"
   ]
  },
  {
   "cell_type": "code",
   "execution_count": 4,
   "metadata": {
    "ExecuteTime": {
     "end_time": "2020-10-08T08:18:14.002376Z",
     "start_time": "2020-10-08T08:18:13.998582Z"
    }
   },
   "outputs": [],
   "source": [
    "findspark.init()"
   ]
  },
  {
   "cell_type": "code",
   "execution_count": 5,
   "metadata": {
    "ExecuteTime": {
     "end_time": "2020-10-08T08:18:16.119159Z",
     "start_time": "2020-10-08T08:18:15.648054Z"
    }
   },
   "outputs": [],
   "source": [
    "import pyspark"
   ]
  },
  {
   "cell_type": "code",
   "execution_count": 6,
   "metadata": {
    "ExecuteTime": {
     "end_time": "2020-10-08T08:18:16.145168Z",
     "start_time": "2020-10-08T08:18:16.121820Z"
    }
   },
   "outputs": [
    {
     "data": {
      "text/plain": [
       "'/opt/spark/python/pyspark/__init__.py'"
      ]
     },
     "execution_count": 6,
     "metadata": {},
     "output_type": "execute_result"
    }
   ],
   "source": [
    "pyspark.__file__"
   ]
  },
  {
   "cell_type": "code",
   "execution_count": 3,
   "metadata": {
    "ExecuteTime": {
     "end_time": "2020-09-03T05:16:42.072704Z",
     "start_time": "2020-09-03T05:16:42.056666Z"
    }
   },
   "outputs": [],
   "source": [
    "from pyspark.sql import SparkSession\n",
    "from pyspark.sql import functions as F\n",
    "from pyspark.sql import types as T"
   ]
  },
  {
   "cell_type": "code",
   "execution_count": 4,
   "metadata": {
    "ExecuteTime": {
     "end_time": "2020-09-03T05:16:47.373738Z",
     "start_time": "2020-09-03T05:16:44.152629Z"
    }
   },
   "outputs": [],
   "source": [
    "spark = (\n",
    "    SparkSession\n",
    "    .builder\n",
    "    .master('local[*]')\n",
    "    .config(\n",
    "        'spark.sql.shuffle.partitions',\n",
    "        '400'\n",
    "    )\n",
    "    .config(\"spark.sql.autoBroadcastJoinThreshold\", -1)\n",
    "    .config('spark.driver.memory', '5g')\n",
    "    .appName('hello-spark')\n",
    "    .getOrCreate()\n",
    ")"
   ]
  },
  {
   "cell_type": "code",
   "execution_count": 5,
   "metadata": {
    "ExecuteTime": {
     "end_time": "2020-09-03T05:16:47.381668Z",
     "start_time": "2020-09-03T05:16:47.375880Z"
    }
   },
   "outputs": [
    {
     "data": {
      "text/html": [
       "\n",
       "            <div>\n",
       "                <p><b>SparkSession - in-memory</b></p>\n",
       "                \n",
       "        <div>\n",
       "            <p><b>SparkContext</b></p>\n",
       "\n",
       "            <p><a href=\"http://localhost:4040\">Spark UI</a></p>\n",
       "\n",
       "            <dl>\n",
       "              <dt>Version</dt>\n",
       "                <dd><code>v3.0.0</code></dd>\n",
       "              <dt>Master</dt>\n",
       "                <dd><code>local[*]</code></dd>\n",
       "              <dt>AppName</dt>\n",
       "                <dd><code>hello-spark</code></dd>\n",
       "            </dl>\n",
       "        </div>\n",
       "        \n",
       "            </div>\n",
       "        "
      ],
      "text/plain": [
       "<pyspark.sql.session.SparkSession at 0x7fc7bcba0a20>"
      ]
     },
     "execution_count": 5,
     "metadata": {},
     "output_type": "execute_result"
    }
   ],
   "source": [
    "spark"
   ]
  },
  {
   "cell_type": "markdown",
   "metadata": {},
   "source": [
    "## Warmup 1\n",
    "\n",
    "\n",
    "    Find out how many orders, how many products and how many sellers are in the data.\n",
    "    How many products have been sold at least once? Which is the product contained in more orders?"
   ]
  },
  {
   "cell_type": "code",
   "execution_count": 6,
   "metadata": {
    "ExecuteTime": {
     "end_time": "2020-09-03T05:16:50.314602Z",
     "start_time": "2020-09-03T05:16:48.245147Z"
    }
   },
   "outputs": [
    {
     "name": "stdout",
     "output_type": "stream",
     "text": [
      "root\n",
      " |-- product_id: string (nullable = true)\n",
      " |-- product_name: string (nullable = true)\n",
      " |-- price: string (nullable = true)\n",
      "\n"
     ]
    }
   ],
   "source": [
    "sdf_products = spark.read.parquet('/data/dataset/products_parquet')\n",
    "sdf_products.printSchema()"
   ]
  },
  {
   "cell_type": "code",
   "execution_count": 7,
   "metadata": {
    "ExecuteTime": {
     "end_time": "2020-09-03T05:16:50.444065Z",
     "start_time": "2020-09-03T05:16:50.315739Z"
    }
   },
   "outputs": [
    {
     "name": "stdout",
     "output_type": "stream",
     "text": [
      "root\n",
      " |-- seller_id: string (nullable = true)\n",
      " |-- seller_name: string (nullable = true)\n",
      " |-- daily_target: string (nullable = true)\n",
      "\n"
     ]
    }
   ],
   "source": [
    "sdf_seller = spark.read.parquet('/data/dataset/sellers_parquet')\n",
    "sdf_seller.printSchema()"
   ]
  },
  {
   "cell_type": "code",
   "execution_count": 8,
   "metadata": {
    "ExecuteTime": {
     "end_time": "2020-09-03T05:16:50.613129Z",
     "start_time": "2020-09-03T05:16:50.445780Z"
    }
   },
   "outputs": [
    {
     "name": "stdout",
     "output_type": "stream",
     "text": [
      "root\n",
      " |-- order_id: string (nullable = true)\n",
      " |-- product_id: string (nullable = true)\n",
      " |-- seller_id: string (nullable = true)\n",
      " |-- date: string (nullable = true)\n",
      " |-- num_pieces_sold: string (nullable = true)\n",
      " |-- bill_raw_text: string (nullable = true)\n",
      "\n"
     ]
    }
   ],
   "source": [
    "sdf_order = spark.read.parquet(\"/data/dataset/sales_parquet\")\n",
    "sdf_order.printSchema()"
   ]
  },
  {
   "cell_type": "code",
   "execution_count": 9,
   "metadata": {
    "ExecuteTime": {
     "end_time": "2020-08-29T02:16:59.034546Z",
     "start_time": "2020-08-29T02:16:42.597010Z"
    },
    "deletable": false,
    "editable": false,
    "run_control": {
     "frozen": true
    }
   },
   "outputs": [
    {
     "data": {
      "text/plain": [
       "75000000"
      ]
     },
     "execution_count": 9,
     "metadata": {},
     "output_type": "execute_result"
    }
   ],
   "source": [
    "sdf_products.select('product_id').distinct().count()"
   ]
  },
  {
   "cell_type": "code",
   "execution_count": 10,
   "metadata": {
    "ExecuteTime": {
     "end_time": "2020-08-29T02:16:59.466893Z",
     "start_time": "2020-08-29T02:16:59.035896Z"
    },
    "deletable": false,
    "editable": false,
    "run_control": {
     "frozen": true
    }
   },
   "outputs": [
    {
     "data": {
      "text/plain": [
       "10"
      ]
     },
     "execution_count": 10,
     "metadata": {},
     "output_type": "execute_result"
    }
   ],
   "source": [
    "sdf_seller.select('seller_id').distinct().count()"
   ]
  },
  {
   "cell_type": "code",
   "execution_count": 11,
   "metadata": {
    "ExecuteTime": {
     "end_time": "2020-08-29T02:17:02.054871Z",
     "start_time": "2020-08-29T02:16:59.468147Z"
    },
    "deletable": false,
    "editable": false,
    "run_control": {
     "frozen": true
    }
   },
   "outputs": [
    {
     "data": {
      "text/plain": [
       "20000040"
      ]
     },
     "execution_count": 11,
     "metadata": {},
     "output_type": "execute_result"
    }
   ],
   "source": [
    "sdf_order.select('order_id').distinct().count()"
   ]
  },
  {
   "cell_type": "markdown",
   "metadata": {},
   "source": [
    "## Warm Up 2\n",
    "\n",
    "    How many distinct products have been sold in each day?"
   ]
  },
  {
   "cell_type": "code",
   "execution_count": 13,
   "metadata": {
    "ExecuteTime": {
     "end_time": "2020-08-29T02:17:03.713570Z",
     "start_time": "2020-08-29T02:17:02.072148Z"
    },
    "deletable": false,
    "editable": false,
    "run_control": {
     "frozen": true
    }
   },
   "outputs": [
    {
     "name": "stdout",
     "output_type": "stream",
     "text": [
      "+----------+----------------+\n",
      "|      date|uniq_product_cnt|\n",
      "+----------+----------------+\n",
      "|2020-07-10|          100218|\n",
      "|2020-07-09|           99801|\n",
      "|2020-07-06|           99869|\n",
      "|2020-07-02|           99768|\n",
      "|2020-07-03|          100224|\n",
      "|2020-07-07|           99453|\n",
      "|2020-07-01|           99755|\n",
      "|2020-07-08|          100048|\n",
      "|2020-07-04|          100294|\n",
      "|2020-07-05|           99991|\n",
      "+----------+----------------+\n",
      "\n"
     ]
    }
   ],
   "source": [
    "sdf_order.groupBy('date').agg(\n",
    "    F.countDistinct('product_id').alias('uniq_product_cnt')\n",
    ").show(30)"
   ]
  },
  {
   "cell_type": "markdown",
   "metadata": {},
   "source": [
    "## Excercise 1\n",
    "\n",
    "    What is the average revenue of the orders?"
   ]
  },
  {
   "cell_type": "code",
   "execution_count": 14,
   "metadata": {
    "ExecuteTime": {
     "end_time": "2020-08-29T02:17:03.717817Z",
     "start_time": "2020-08-29T02:17:03.714887Z"
    },
    "deletable": false,
    "editable": false,
    "run_control": {
     "frozen": true
    }
   },
   "outputs": [
    {
     "name": "stdout",
     "output_type": "stream",
     "text": [
      "root\n",
      " |-- order_id: string (nullable = true)\n",
      " |-- product_id: string (nullable = true)\n",
      " |-- seller_id: string (nullable = true)\n",
      " |-- date: string (nullable = true)\n",
      " |-- num_pieces_sold: string (nullable = true)\n",
      " |-- bill_raw_text: string (nullable = true)\n",
      "\n"
     ]
    }
   ],
   "source": [
    "sdf_order.printSchema()"
   ]
  },
  {
   "cell_type": "code",
   "execution_count": 15,
   "metadata": {
    "ExecuteTime": {
     "end_time": "2020-08-29T02:17:03.739650Z",
     "start_time": "2020-08-29T02:17:03.719427Z"
    },
    "deletable": false,
    "editable": false,
    "run_control": {
     "frozen": true
    }
   },
   "outputs": [
    {
     "name": "stdout",
     "output_type": "stream",
     "text": [
      "root\n",
      " |-- product_id: string (nullable = true)\n",
      " |-- product_name: string (nullable = true)\n",
      " |-- price: string (nullable = true)\n",
      "\n"
     ]
    }
   ],
   "source": [
    "sdf_products.printSchema()"
   ]
  },
  {
   "cell_type": "code",
   "execution_count": 16,
   "metadata": {
    "ExecuteTime": {
     "end_time": "2020-08-29T02:17:24.166697Z",
     "start_time": "2020-08-29T02:17:03.741359Z"
    },
    "deletable": false,
    "editable": false,
    "run_control": {
     "frozen": true
    }
   },
   "outputs": [
    {
     "name": "stdout",
     "output_type": "stream",
     "text": [
      "+------------------+\n",
      "|       avg_revenue|\n",
      "+------------------+\n",
      "|1245.9236386027228|\n",
      "+------------------+\n",
      "\n"
     ]
    }
   ],
   "source": [
    "sdf_order.select(\n",
    "    'product_id', 'num_pieces_sold'\n",
    ").join(\n",
    "    sdf_products.select('product_id', 'price'),\n",
    "    on='product_id',\n",
    "    how='left'\n",
    ").withColumn(\n",
    "    'revenue',\n",
    "    c('num_pieces_sold').cast('float')*c('price').cast('float')\n",
    ").groupBy().agg(\n",
    "    F.avg('revenue').alias('avg_revenue')\n",
    ").show()"
   ]
  },
  {
   "cell_type": "markdown",
   "metadata": {},
   "source": [
    "### salting"
   ]
  },
  {
   "cell_type": "code",
   "execution_count": 17,
   "metadata": {
    "ExecuteTime": {
     "end_time": "2020-08-29T02:17:24.255831Z",
     "start_time": "2020-08-29T02:17:24.168211Z"
    },
    "deletable": false,
    "editable": false,
    "run_control": {
     "frozen": true
    }
   },
   "outputs": [],
   "source": [
    "sdf_order_salted = (\n",
    "    sdf_order.select(\n",
    "        'product_id',\n",
    "        'num_pieces_sold'\n",
    "    ).withColumn(\n",
    "        'salt-key',\n",
    "        F.concat_ws('-', 'product_id', F.floor(F.rand() * 10).cast('string'))\n",
    "    )\n",
    ")"
   ]
  },
  {
   "cell_type": "code",
   "execution_count": 18,
   "metadata": {
    "ExecuteTime": {
     "end_time": "2020-08-29T02:17:24.745134Z",
     "start_time": "2020-08-29T02:17:24.256924Z"
    },
    "deletable": false,
    "editable": false,
    "run_control": {
     "frozen": true
    }
   },
   "outputs": [],
   "source": [
    "sdf_products_salted = (\n",
    "    sdf_products\n",
    "    .select('product_id', 'price')\n",
    "    .withColumn(\n",
    "        'salts',\n",
    "        F.array([F.lit(f'{i}') for i in range(10)])\n",
    "    ).withColumn(\n",
    "        'salt',\n",
    "        F.explode('salts')\n",
    "    )\n",
    "    .withColumn(\n",
    "        'salt-key',\n",
    "        F.concat_ws('-', 'product_id', 'salt')\n",
    "    )\n",
    "    .drop('salt', 'salts')\n",
    ")"
   ]
  },
  {
   "cell_type": "code",
   "execution_count": 21,
   "metadata": {
    "ExecuteTime": {
     "end_time": "2020-08-29T02:24:28.326979Z",
     "start_time": "2020-08-29T02:23:01.481850Z"
    },
    "deletable": false,
    "editable": false,
    "run_control": {
     "frozen": true
    }
   },
   "outputs": [
    {
     "name": "stdout",
     "output_type": "stream",
     "text": [
      "+------------------+\n",
      "|       avg_revenue|\n",
      "+------------------+\n",
      "|1245.9236386027228|\n",
      "+------------------+\n",
      "\n"
     ]
    }
   ],
   "source": [
    "sdf_order_salted.join(\n",
    "    sdf_products_salted,\n",
    "    on='salt-key',\n",
    "    how='left'\n",
    ").withColumn(\n",
    "    'revenue',\n",
    "    c('price').cast('float') * c('num_pieces_sold').cast('float')\n",
    ").coalesce(\n",
    "    400\n",
    ").groupBy().agg(\n",
    "    F.avg('revenue').alias('avg_revenue')\n",
    ").show()"
   ]
  },
  {
   "cell_type": "markdown",
   "metadata": {},
   "source": [
    "## Excercise 2\n",
    "\n",
    "    For each seller, what is the average % contribution of an order to the seller's daily quota?"
   ]
  },
  {
   "cell_type": "code",
   "execution_count": 10,
   "metadata": {
    "ExecuteTime": {
     "end_time": "2020-09-03T05:16:58.499881Z",
     "start_time": "2020-09-03T05:16:58.494752Z"
    }
   },
   "outputs": [
    {
     "name": "stdout",
     "output_type": "stream",
     "text": [
      "root\n",
      " |-- order_id: string (nullable = true)\n",
      " |-- product_id: string (nullable = true)\n",
      " |-- seller_id: string (nullable = true)\n",
      " |-- date: string (nullable = true)\n",
      " |-- num_pieces_sold: string (nullable = true)\n",
      " |-- bill_raw_text: string (nullable = true)\n",
      "\n"
     ]
    }
   ],
   "source": [
    "sdf_order.printSchema()"
   ]
  },
  {
   "cell_type": "code",
   "execution_count": 11,
   "metadata": {
    "ExecuteTime": {
     "end_time": "2020-09-03T05:16:59.068893Z",
     "start_time": "2020-09-03T05:16:59.064104Z"
    }
   },
   "outputs": [
    {
     "name": "stdout",
     "output_type": "stream",
     "text": [
      "root\n",
      " |-- seller_id: string (nullable = true)\n",
      " |-- seller_name: string (nullable = true)\n",
      " |-- daily_target: string (nullable = true)\n",
      "\n"
     ]
    }
   ],
   "source": [
    "sdf_seller.printSchema()"
   ]
  },
  {
   "cell_type": "code",
   "execution_count": 14,
   "metadata": {
    "ExecuteTime": {
     "end_time": "2020-08-31T02:41:48.733718Z",
     "start_time": "2020-08-31T02:41:37.351304Z"
    },
    "deletable": false,
    "editable": false,
    "run_control": {
     "frozen": true
    }
   },
   "outputs": [
    {
     "name": "stdout",
     "output_type": "stream",
     "text": [
      "+---------+--------------------+\n",
      "|seller_id|          avg(ratio)|\n",
      "+---------+--------------------+\n",
      "|        3|7.060842894390445E-4|\n",
      "|        0| 2.01973622529017E-5|\n",
      "|        4|3.845384604576898...|\n",
      "|        7|8.510553537464244E-5|\n",
      "|        8|0.002071646546208...|\n",
      "|        5|8.038980497173663E-5|\n",
      "|        6|2.534518215186249...|\n",
      "|        9|1.449276275189615E-4|\n",
      "|        1|3.670188787905763...|\n",
      "|        2|2.456721945951509E-4|\n",
      "+---------+--------------------+\n",
      "\n"
     ]
    }
   ],
   "source": [
    "sdf_order.select('seller_id', 'num_pieces_sold').join(\n",
    "    sdf_seller,\n",
    "    on='seller_id'\n",
    ").withColumn(\n",
    "    'ratio',\n",
    "    c('num_pieces_sold') / c('daily_target')\n",
    ").groupBy(\n",
    "    'seller_id'\n",
    ").agg(\n",
    "    F.avg('ratio')\n",
    ").show()"
   ]
  },
  {
   "cell_type": "code",
   "execution_count": 16,
   "metadata": {
    "ExecuteTime": {
     "end_time": "2020-08-31T02:44:06.719492Z",
     "start_time": "2020-08-31T02:44:06.628094Z"
    },
    "deletable": false,
    "editable": false,
    "run_control": {
     "frozen": true
    }
   },
   "outputs": [
    {
     "data": {
      "text/plain": [
       "10"
      ]
     },
     "execution_count": 16,
     "metadata": {},
     "output_type": "execute_result"
    }
   ],
   "source": [
    "sdf_seller.count()"
   ]
  },
  {
   "cell_type": "code",
   "execution_count": 17,
   "metadata": {
    "ExecuteTime": {
     "end_time": "2020-08-31T02:44:25.990934Z",
     "start_time": "2020-08-31T02:44:24.449871Z"
    },
    "deletable": false,
    "editable": false,
    "run_control": {
     "frozen": true
    }
   },
   "outputs": [
    {
     "name": "stdout",
     "output_type": "stream",
     "text": [
      "+---------+--------------------+\n",
      "|seller_id|          avg(ratio)|\n",
      "+---------+--------------------+\n",
      "|        3|7.060842894390356E-4|\n",
      "|        0|2.019736225262708E-5|\n",
      "|        4|3.845384604576818E-5|\n",
      "|        7|8.510553537463733E-5|\n",
      "|        8|0.002071646546208...|\n",
      "|        5|8.038980497175858E-5|\n",
      "|        6|2.534518215186312...|\n",
      "|        9|1.449276275189590...|\n",
      "|        1|3.670188787904605E-5|\n",
      "|        2|2.456721945951487E-4|\n",
      "+---------+--------------------+\n",
      "\n"
     ]
    }
   ],
   "source": [
    "sdf_order.select('seller_id', 'num_pieces_sold').join(\n",
    "    F.broadcast(sdf_seller.select('seller_id', 'daily_target')),\n",
    "    on='seller_id'\n",
    ").withColumn(\n",
    "    'ratio',\n",
    "    c('num_pieces_sold') / c('daily_target')\n",
    ").groupBy(\n",
    "    'seller_id'\n",
    ").agg(\n",
    "    F.avg('ratio')\n",
    ").show()"
   ]
  },
  {
   "cell_type": "markdown",
   "metadata": {},
   "source": [
    "## Exercise 3\n",
    "\n",
    "    Who are the second most selling and the least selling persons (sellers) for each product?\n",
    "    Who are those for product with `product_id = 0`"
   ]
  },
  {
   "cell_type": "code",
   "execution_count": 12,
   "metadata": {
    "ExecuteTime": {
     "end_time": "2020-09-03T05:17:41.806494Z",
     "start_time": "2020-09-03T05:17:41.800501Z"
    }
   },
   "outputs": [
    {
     "name": "stdout",
     "output_type": "stream",
     "text": [
      "root\n",
      " |-- product_id: string (nullable = true)\n",
      " |-- product_name: string (nullable = true)\n",
      " |-- price: string (nullable = true)\n",
      "\n"
     ]
    }
   ],
   "source": [
    "sdf_products.printSchema()"
   ]
  },
  {
   "cell_type": "code",
   "execution_count": 13,
   "metadata": {
    "ExecuteTime": {
     "end_time": "2020-09-03T05:17:42.882611Z",
     "start_time": "2020-09-03T05:17:42.876215Z"
    }
   },
   "outputs": [
    {
     "name": "stdout",
     "output_type": "stream",
     "text": [
      "root\n",
      " |-- seller_id: string (nullable = true)\n",
      " |-- seller_name: string (nullable = true)\n",
      " |-- daily_target: string (nullable = true)\n",
      "\n"
     ]
    }
   ],
   "source": [
    "sdf_seller.printSchema()"
   ]
  },
  {
   "cell_type": "code",
   "execution_count": 14,
   "metadata": {
    "ExecuteTime": {
     "end_time": "2020-09-03T05:17:43.741581Z",
     "start_time": "2020-09-03T05:17:43.735309Z"
    }
   },
   "outputs": [
    {
     "name": "stdout",
     "output_type": "stream",
     "text": [
      "root\n",
      " |-- order_id: string (nullable = true)\n",
      " |-- product_id: string (nullable = true)\n",
      " |-- seller_id: string (nullable = true)\n",
      " |-- date: string (nullable = true)\n",
      " |-- num_pieces_sold: string (nullable = true)\n",
      " |-- bill_raw_text: string (nullable = true)\n",
      "\n"
     ]
    }
   ],
   "source": [
    "sdf_order.printSchema()"
   ]
  },
  {
   "cell_type": "code",
   "execution_count": 15,
   "metadata": {
    "ExecuteTime": {
     "end_time": "2020-09-03T05:17:46.295182Z",
     "start_time": "2020-09-03T05:17:46.292285Z"
    }
   },
   "outputs": [],
   "source": [
    "from pyspark.sql.window import Window"
   ]
  },
  {
   "cell_type": "code",
   "execution_count": 16,
   "metadata": {
    "ExecuteTime": {
     "end_time": "2020-09-03T05:17:49.269405Z",
     "start_time": "2020-09-03T05:17:49.225005Z"
    }
   },
   "outputs": [],
   "source": [
    "spec = Window.orderBy('total_pieces').partitionBy('seller_id', 'product_id')"
   ]
  },
  {
   "cell_type": "code",
   "execution_count": 18,
   "metadata": {
    "ExecuteTime": {
     "end_time": "2020-09-03T04:30:19.074703Z",
     "start_time": "2020-09-03T04:30:18.830358Z"
    }
   },
   "outputs": [],
   "source": [
    "sdf_ex3 = (\n",
    "    sdf_order\n",
    "    .groupBy('seller_id', 'product_id')\n",
    "    .agg(\n",
    "        F.sum('num_pieces_sold').alias('total_pieces')\n",
    "    )\n",
    "    .withColumn(\n",
    "        'rank_desc',\n",
    "        F.dense_rank().over(spec.orderBy(c('total_pieces').desc()))\n",
    "    )\n",
    "    .withColumn(\n",
    "        'rank_asc',\n",
    "        F.dense_rank().over(spec.orderBy(c('total_pieces').asc()))\n",
    "    )\n",
    "    .filter(\n",
    "        (c('rank_desc') == 2) | (c('rank_asc') == 1)\n",
    "    )\n",
    ")"
   ]
  },
  {
   "cell_type": "code",
   "execution_count": 19,
   "metadata": {
    "ExecuteTime": {
     "end_time": "2020-09-03T04:30:23.041536Z",
     "start_time": "2020-09-03T04:30:19.681405Z"
    }
   },
   "outputs": [
    {
     "name": "stdout",
     "output_type": "stream",
     "text": [
      "+---------+----------+------------+---------+--------+\n",
      "|seller_id|product_id|total_pieces|rank_desc|rank_asc|\n",
      "+---------+----------+------------+---------+--------+\n",
      "|        1|  10236486|        13.0|        1|       1|\n",
      "|        1|  10412465|        26.0|        1|       1|\n",
      "|        1|  11343368|         2.0|        1|       1|\n",
      "|        1|  11512358|        34.0|        1|       1|\n",
      "|        1|  11624101|        87.0|        1|       1|\n",
      "|        1|  11946844|        68.0|        1|       1|\n",
      "|        1|  12318852|        94.0|        1|       1|\n",
      "|        1|  12741803|        28.0|        1|       1|\n",
      "|        1|  12810525|        13.0|        1|       1|\n",
      "|        1|  13129262|        34.0|        1|       1|\n",
      "|        1|  13334833|        73.0|        1|       1|\n",
      "|        1|  13426415|        45.0|        1|       1|\n",
      "|        1|  13434379|        17.0|        1|       1|\n",
      "|        1|   1347749|        74.0|        1|       1|\n",
      "|        1|  13629474|        65.0|        1|       1|\n",
      "|        1|  13770754|        55.0|        1|       1|\n",
      "|        1|  13851122|        11.0|        1|       1|\n",
      "|        1|  13893070|        52.0|        1|       1|\n",
      "|        1|  13941296|        20.0|        1|       1|\n",
      "|        1|  14248042|        82.0|        1|       1|\n",
      "+---------+----------+------------+---------+--------+\n",
      "only showing top 20 rows\n",
      "\n"
     ]
    }
   ],
   "source": [
    "sdf_ex3.show()"
   ]
  },
  {
   "cell_type": "code",
   "execution_count": 20,
   "metadata": {
    "ExecuteTime": {
     "end_time": "2020-09-03T04:30:24.988071Z",
     "start_time": "2020-09-03T04:30:23.043293Z"
    }
   },
   "outputs": [
    {
     "name": "stdout",
     "output_type": "stream",
     "text": [
      "+---------+----------+------------+---------+--------+\n",
      "|seller_id|product_id|total_pieces|rank_desc|rank_asc|\n",
      "+---------+----------+------------+---------+--------+\n",
      "|        0|         0|9.59374707E8|        1|       1|\n",
      "+---------+----------+------------+---------+--------+\n",
      "\n"
     ]
    }
   ],
   "source": [
    "sdf_ex3.filter(\n",
    "    c('product_id') == 0\n",
    ").show()"
   ]
  },
  {
   "cell_type": "markdown",
   "metadata": {},
   "source": [
    "## Excercise 4\n",
    "\n",
    "    Create a new column called \"hashed_bill\" defined as follows:\n",
    "\n",
    "        - if the order_id is even: apply MD5 hashing iteratively to the bill_raw_text field,\n",
    "          once for each 'A' (capital 'A') present in the text. E.g. if the bill text is 'nbAAnllA',\n",
    "          you would apply hashing three times iteratively (only if the order number is even)\n",
    "        - if the order_id is odd: apply SHA256 hashing to the bill text\n",
    "\n",
    "    Finally, check if there are any duplicate on the new column"
   ]
  },
  {
   "cell_type": "code",
   "execution_count": 40,
   "metadata": {
    "ExecuteTime": {
     "end_time": "2020-09-03T05:30:47.206228Z",
     "start_time": "2020-09-03T05:30:47.199118Z"
    }
   },
   "outputs": [],
   "source": [
    "def UDF(func=None, return_type = T.StringType()):\n",
    "    def wrapper(func):\n",
    "        func.udf = F.udf(func, returnType=return_type)\n",
    "        return func\n",
    "    if func is None:\n",
    "        return wrapper\n",
    "    return wrapper(func)"
   ]
  },
  {
   "cell_type": "code",
   "execution_count": 41,
   "metadata": {
    "ExecuteTime": {
     "end_time": "2020-09-03T05:30:48.318368Z",
     "start_time": "2020-09-03T05:30:48.315673Z"
    }
   },
   "outputs": [],
   "source": [
    "from hashlib import md5, sha256"
   ]
  },
  {
   "cell_type": "code",
   "execution_count": 42,
   "metadata": {
    "ExecuteTime": {
     "end_time": "2020-09-03T05:30:48.506722Z",
     "start_time": "2020-09-03T05:30:48.503041Z"
    }
   },
   "outputs": [],
   "source": [
    "mm = sha256(\"cjewojiioreg\".encode('utf8'))"
   ]
  },
  {
   "cell_type": "code",
   "execution_count": 43,
   "metadata": {
    "ExecuteTime": {
     "end_time": "2020-09-03T05:30:48.932535Z",
     "start_time": "2020-09-03T05:30:48.927078Z"
    }
   },
   "outputs": [
    {
     "name": "stdout",
     "output_type": "stream",
     "text": [
      "root\n",
      " |-- order_id: string (nullable = true)\n",
      " |-- product_id: string (nullable = true)\n",
      " |-- seller_id: string (nullable = true)\n",
      " |-- date: string (nullable = true)\n",
      " |-- num_pieces_sold: string (nullable = true)\n",
      " |-- bill_raw_text: string (nullable = true)\n",
      "\n"
     ]
    }
   ],
   "source": [
    "sdf_order.printSchema()"
   ]
  },
  {
   "cell_type": "code",
   "execution_count": 45,
   "metadata": {
    "ExecuteTime": {
     "end_time": "2020-09-03T05:30:51.199988Z",
     "start_time": "2020-09-03T05:30:51.195613Z"
    }
   },
   "outputs": [],
   "source": [
    "from collections import Counter"
   ]
  },
  {
   "cell_type": "code",
   "execution_count": 55,
   "metadata": {
    "ExecuteTime": {
     "end_time": "2020-09-03T05:35:37.831918Z",
     "start_time": "2020-09-03T05:35:37.823716Z"
    }
   },
   "outputs": [],
   "source": [
    "@UDF(return_type=T.BinaryType())\n",
    "def myhash(order_id, value):\n",
    "    cnt_A = Counter(value)['A']\n",
    "    value = value.encode('utf8')\n",
    "    if order_id % 2:\n",
    "        for _ in range(cnt_A):\n",
    "            value = md5(value).digest()\n",
    "    else:\n",
    "        value = sha256(value).digest()\n",
    "    return value"
   ]
  },
  {
   "cell_type": "code",
   "execution_count": 48,
   "metadata": {
    "ExecuteTime": {
     "end_time": "2020-09-03T05:32:32.240178Z",
     "start_time": "2020-09-03T05:32:32.208025Z"
    }
   },
   "outputs": [
    {
     "name": "stdout",
     "output_type": "stream",
     "text": [
      "root\n",
      " |-- order_id: integer (nullable = true)\n",
      " |-- product_id: string (nullable = true)\n",
      " |-- seller_id: string (nullable = true)\n",
      " |-- date: string (nullable = true)\n",
      " |-- num_pieces_sold: string (nullable = true)\n",
      " |-- bill_raw_text: string (nullable = true)\n",
      " |-- hashed_bill_text: binary (nullable = true)\n",
      "\n"
     ]
    }
   ],
   "source": [
    "sdf_ex4 = sdf_order.withColumn(\n",
    "    'order_id',\n",
    "    c('order_id').cast('int')\n",
    ").withColumn(\n",
    "    'hashed_bill_text',\n",
    "    myhash.udf('order_id', 'bill_raw_text')\n",
    ")\n",
    "sdf_ex4.printSchema()"
   ]
  },
  {
   "cell_type": "code",
   "execution_count": 49,
   "metadata": {
    "ExecuteTime": {
     "end_time": "2020-09-03T05:32:39.372104Z",
     "start_time": "2020-09-03T05:32:38.614260Z"
    }
   },
   "outputs": [
    {
     "name": "stdout",
     "output_type": "stream",
     "text": [
      "+--------+----------+---------+----------+---------------+--------------------+--------------------+\n",
      "|order_id|product_id|seller_id|      date|num_pieces_sold|       bill_raw_text|    hashed_bill_text|\n",
      "+--------+----------+---------+----------+---------------+--------------------+--------------------+\n",
      "|       1|         0|        0|2020-07-03|             98|frlnwjcoaxsaubnat...|[66 72 6C 6E 77 6...|\n",
      "|       2|         0|        0|2020-07-07|             23|zsnrbwrlflvqqmbcz...|[D0 54 12 80 F7 8...|\n",
      "|       3|         0|        0|2020-07-02|             79|gmxnirkafafnohboh...|[82 14 BD 6A 80 3...|\n",
      "|       4|         0|        0|2020-07-07|              5|xrgknaskXkfcxcnzj...|[60 00 9F 70 1E F...|\n",
      "|       5|         0|        0|2020-07-10|             79|tzkqoynsqnfomkpbt...|[F8 1C 72 C0 58 1...|\n",
      "|       6|         0|        0|2020-07-05|             87|qoluiczrckaygkzbi...|[A4 B8 B0 2B D8 C...|\n",
      "|       7|         0|        0|2020-07-08|             14|ivwpwrpuhrjgjdauj...|[69 76 77 70 77 7...|\n",
      "|       8|         0|        0|2020-07-02|             64|hoalxshwHpqgyvqtm...|[4E 1D 15 AA B8 5...|\n",
      "|       9|         0|        0|2020-07-02|             45|vysrvsdfvekabcmwo...|[76 79 73 72 76 7...|\n",
      "|      10|         0|        0|2020-07-05|             16|poiemeiqharpjqkao...|[53 89 13 2E D3 5...|\n",
      "|      11|         0|        0|2020-07-09|              4|badjqluozzjHbbjkv...|[62 61 64 6A 71 6...|\n",
      "|      12|         0|        0|2020-07-02|             58|fdgikecrmegaxfpvO...|[20 CC E8 EE BE A...|\n",
      "|      13|         0|        0|2020-07-02|             56|zhrkbicjlasuqqwsl...|[7A 68 72 6B 62 6...|\n",
      "|      14|         0|        0|2020-07-04|             43|sivmclqcgiaspgomj...|[40 8C 27 2B 46 5...|\n",
      "|      15|         0|        0|2020-07-05|             39|usobmyZrxjdzdrecl...|[75 73 6F 62 6D 7...|\n",
      "|      16|         0|        0|2020-07-04|             79|zxbixfkhmydtewfje...|[4C F1 E3 26 11 3...|\n",
      "|      17|         0|        0|2020-07-10|             81|aancisgpjaueusynm...|[61 61 6E 63 69 7...|\n",
      "|      18|         0|        0|2020-07-07|             62|gwkkxzjpdaaaskune...|[DD BB 72 61 FA 3...|\n",
      "|      19|         0|        0|2020-07-07|             13|jmltpvkcizhepIwwh...|[6A 6D 6C 74 70 7...|\n",
      "|      20|         0|        0|2020-07-03|             69|sgicvswximmsqqtuj...|[B4 7E 33 55 3E 2...|\n",
      "+--------+----------+---------+----------+---------------+--------------------+--------------------+\n",
      "only showing top 20 rows\n",
      "\n"
     ]
    }
   ],
   "source": [
    "sdf_ex4.show()"
   ]
  },
  {
   "cell_type": "code",
   "execution_count": null,
   "metadata": {},
   "outputs": [],
   "source": []
  }
 ],
 "metadata": {
  "kernelspec": {
   "display_name": "spark",
   "language": "python",
   "name": "spark"
  },
  "language_info": {
   "codemirror_mode": {
    "name": "ipython",
    "version": 3
   },
   "file_extension": ".py",
   "mimetype": "text/x-python",
   "name": "python",
   "nbconvert_exporter": "python",
   "pygments_lexer": "ipython3",
   "version": "3.6.8"
  },
  "toc": {
   "base_numbering": 1,
   "nav_menu": {},
   "number_sections": true,
   "sideBar": true,
   "skip_h1_title": false,
   "title_cell": "Table of Contents",
   "title_sidebar": "Contents",
   "toc_cell": false,
   "toc_position": {},
   "toc_section_display": true,
   "toc_window_display": false
  }
 },
 "nbformat": 4,
 "nbformat_minor": 2
}
