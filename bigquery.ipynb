{
 "cells": [
  {
   "cell_type": "code",
   "execution_count": 1,
   "metadata": {
    "ExecuteTime": {
     "end_time": "2020-10-08T08:57:50.934040Z",
     "start_time": "2020-10-08T08:57:50.930272Z"
    }
   },
   "outputs": [],
   "source": [
    "import os\n",
    "\n",
    "os.environ['SPARK_HOME'] = '/opt/spark'\n",
    "\n",
    "import findspark\n",
    "\n",
    "findspark.init()"
   ]
  },
  {
   "cell_type": "code",
   "execution_count": 2,
   "metadata": {
    "ExecuteTime": {
     "end_time": "2020-10-08T08:57:51.649332Z",
     "start_time": "2020-10-08T08:57:51.424910Z"
    }
   },
   "outputs": [],
   "source": [
    "import pyspark"
   ]
  },
  {
   "cell_type": "code",
   "execution_count": 3,
   "metadata": {
    "ExecuteTime": {
     "end_time": "2020-10-08T08:57:52.658538Z",
     "start_time": "2020-10-08T08:57:52.272321Z"
    }
   },
   "outputs": [],
   "source": [
    "from google.cloud import bigquery\n",
    "from google.oauth2.service_account import Credentials"
   ]
  },
  {
   "cell_type": "code",
   "execution_count": 4,
   "metadata": {
    "ExecuteTime": {
     "end_time": "2020-10-08T08:57:53.396952Z",
     "start_time": "2020-10-08T08:57:53.389484Z"
    }
   },
   "outputs": [],
   "source": [
    "cred = Credentials.from_service_account_file(\n",
    "    \"/etc/momo-compute.json\",\n",
    "    scopes=[\"https://www.googleapis.com/auth/cloud-platform\"],\n",
    ")"
   ]
  },
  {
   "cell_type": "code",
   "execution_count": 5,
   "metadata": {
    "ExecuteTime": {
     "end_time": "2020-10-08T08:57:53.849407Z",
     "start_time": "2020-10-08T08:57:53.844941Z"
    }
   },
   "outputs": [],
   "source": [
    "client = bigquery.Client(\n",
    "    credentials=cred,\n",
    "    project=cred.project_id\n",
    ")"
   ]
  },
  {
   "cell_type": "code",
   "execution_count": 6,
   "metadata": {
    "ExecuteTime": {
     "end_time": "2020-10-08T08:57:54.946239Z",
     "start_time": "2020-10-08T08:57:54.375123Z"
    }
   },
   "outputs": [
    {
     "name": "stdout",
     "output_type": "stream",
     "text": [
      "momodataset\n"
     ]
    }
   ],
   "source": [
    "for dataset in client.list_datasets():\n",
    "    print(dataset.dataset_id)"
   ]
  },
  {
   "cell_type": "code",
   "execution_count": 7,
   "metadata": {
    "ExecuteTime": {
     "end_time": "2020-10-08T08:57:57.499587Z",
     "start_time": "2020-10-08T08:57:56.484482Z"
    }
   },
   "outputs": [],
   "source": [
    "table_ids = [\n",
    "    table.table_id for table in client.list_tables('momodataset')\n",
    "]"
   ]
  },
  {
   "cell_type": "code",
   "execution_count": 8,
   "metadata": {
    "ExecuteTime": {
     "end_time": "2020-10-08T08:57:57.509746Z",
     "start_time": "2020-10-08T08:57:57.502656Z"
    }
   },
   "outputs": [
    {
     "data": {
      "text/plain": [
       "['CUSTOMER_LOG_NAMED_1m',\n",
       " 'CUSTOMER_LOG_NAMED_1w',\n",
       " 'CUSTOMER_LOG_NAMED_1y',\n",
       " 'CUSTOMER_LOG_NAMED_3m',\n",
       " 'CUSTOMER_LOG_NAMED_6m',\n",
       " 'CUSTOMER_LOG_PROCESSED_1d',\n",
       " 'CUSTOMER_LOG_PROCESSED_1m',\n",
       " 'CUSTOMER_LOG_PROCESSED_1w',\n",
       " 'CUSTOMER_LOG_PROCESSED_1y',\n",
       " 'CUSTOMER_LOG_PROCESSED_3m']"
      ]
     },
     "execution_count": 8,
     "metadata": {},
     "output_type": "execute_result"
    }
   ],
   "source": [
    "table_ids[:10]"
   ]
  },
  {
   "cell_type": "code",
   "execution_count": 9,
   "metadata": {
    "ExecuteTime": {
     "end_time": "2020-10-08T08:57:58.261134Z",
     "start_time": "2020-10-08T08:57:58.255060Z"
    }
   },
   "outputs": [
    {
     "data": {
      "text/plain": [
       "['substitute_same_MGROUP',\n",
       " 'substitute_same_SGROUP',\n",
       " 'warehouse_future_purchase_spu_sku',\n",
       " 'warehouse_in_stock_group',\n",
       " 'warehouse_in_stock_group_pivot',\n",
       " 'warehouse_in_stock_spu_sku',\n",
       " 'warehouse_sold_group',\n",
       " 'warehouse_sold_group_pivot',\n",
       " 'warehouse_sold_spu_sku',\n",
       " 'warehouse_tbalju_cleaned']"
      ]
     },
     "execution_count": 9,
     "metadata": {},
     "output_type": "execute_result"
    }
   ],
   "source": [
    "table_ids[-10:]"
   ]
  },
  {
   "cell_type": "code",
   "execution_count": 10,
   "metadata": {
    "ExecuteTime": {
     "end_time": "2020-10-08T08:58:02.378564Z",
     "start_time": "2020-10-08T08:57:59.063609Z"
    }
   },
   "outputs": [
    {
     "data": {
      "text/html": [
       "\n",
       "            <div>\n",
       "                <p><b>SparkSession - in-memory</b></p>\n",
       "                \n",
       "        <div>\n",
       "            <p><b>SparkContext</b></p>\n",
       "\n",
       "            <p><a href=\"http://localhost:4044\">Spark UI</a></p>\n",
       "\n",
       "            <dl>\n",
       "              <dt>Version</dt>\n",
       "                <dd><code>v3.0.0</code></dd>\n",
       "              <dt>Master</dt>\n",
       "                <dd><code>local[*]</code></dd>\n",
       "              <dt>AppName</dt>\n",
       "                <dd><code>spark-exercise-bq</code></dd>\n",
       "            </dl>\n",
       "        </div>\n",
       "        \n",
       "            </div>\n",
       "        "
      ],
      "text/plain": [
       "<pyspark.sql.session.SparkSession at 0x7f6d366baa20>"
      ]
     },
     "execution_count": 10,
     "metadata": {},
     "output_type": "execute_result"
    }
   ],
   "source": [
    "spark = (\n",
    "    pyspark\n",
    "    .sql\n",
    "    .SparkSession\n",
    "    .builder\n",
    "    .master('local[*]')\n",
    "    .appName('spark-exercise-bq')\n",
    "    .config('spark.driver.memory', '8g')\n",
    "    .getOrCreate()\n",
    ")\n",
    "spark"
   ]
  },
  {
   "cell_type": "code",
   "execution_count": 11,
   "metadata": {
    "ExecuteTime": {
     "end_time": "2020-10-08T08:58:02.381962Z",
     "start_time": "2020-10-08T08:58:02.380002Z"
    }
   },
   "outputs": [],
   "source": [
    "import random"
   ]
  },
  {
   "cell_type": "code",
   "execution_count": 12,
   "metadata": {
    "ExecuteTime": {
     "end_time": "2020-10-08T08:58:02.404314Z",
     "start_time": "2020-10-08T08:58:02.383172Z"
    }
   },
   "outputs": [],
   "source": [
    "random.seed(3333)"
   ]
  },
  {
   "cell_type": "code",
   "execution_count": 13,
   "metadata": {
    "ExecuteTime": {
     "end_time": "2020-10-08T08:58:02.437914Z",
     "start_time": "2020-10-08T08:58:02.423453Z"
    }
   },
   "outputs": [
    {
     "data": {
      "text/plain": [
       "'ECOWNER_TF_EC_PROMO_M'"
      ]
     },
     "execution_count": 13,
     "metadata": {},
     "output_type": "execute_result"
    }
   ],
   "source": [
    "table_name = table_ids[random.randint(0, len(table_ids))]\n",
    "table_name"
   ]
  },
  {
   "cell_type": "code",
   "execution_count": 14,
   "metadata": {
    "ExecuteTime": {
     "end_time": "2020-10-08T08:58:03.497102Z",
     "start_time": "2020-10-08T08:58:03.492510Z"
    }
   },
   "outputs": [
    {
     "data": {
      "text/plain": [
       "'momo-logistics-pro'"
      ]
     },
     "execution_count": 14,
     "metadata": {},
     "output_type": "execute_result"
    }
   ],
   "source": [
    "cred.project_id"
   ]
  },
  {
   "cell_type": "code",
   "execution_count": 15,
   "metadata": {
    "ExecuteTime": {
     "end_time": "2020-10-08T08:58:06.084030Z",
     "start_time": "2020-10-08T08:58:04.050833Z"
    }
   },
   "outputs": [],
   "source": [
    "sdf = (\n",
    "    spark\n",
    "    .read.format('bigquery')\n",
    "    .option(\"credentialsFile\", \"/etc/momo-compute.json\")\n",
    "    .option(\"parentProject\", cred.project_id)\n",
    "    .option(\"dataset\", \"momodataset\")\n",
    "    .option(\"table\", table_name)\n",
    "    .option(\"viewsEnabled\", \"true\")\n",
    "    .load()\n",
    ")"
   ]
  },
  {
   "cell_type": "code",
   "execution_count": 16,
   "metadata": {
    "ExecuteTime": {
     "end_time": "2020-10-08T08:58:06.109209Z",
     "start_time": "2020-10-08T08:58:06.085413Z"
    }
   },
   "outputs": [
    {
     "name": "stdout",
     "output_type": "stream",
     "text": [
      "root\n",
      " |-- optype: string (nullable = true)\n",
      " |-- position: string (nullable = true)\n",
      " |-- PROMO_NO: string (nullable = true)\n",
      " |-- CHKOUT_TYPE: string (nullable = true)\n",
      " |-- DELIV_TYPE: string (nullable = true)\n",
      " |-- PROMO_START_DATE: timestamp (nullable = true)\n",
      " |-- PROMO_END_DATE: timestamp (nullable = true)\n",
      " |-- PROMO_NAME: string (nullable = true)\n",
      " |-- PROMO_DESCRIPT: string (nullable = true)\n",
      " |-- PROMO_URL: string (nullable = true)\n",
      " |-- USE_YN: string (nullable = true)\n",
      " |-- INSERT_ID: string (nullable = true)\n",
      " |-- INSERT_DATE: timestamp (nullable = true)\n",
      " |-- MODIFY_ID: string (nullable = true)\n",
      " |-- MODIFY_DATE: timestamp (nullable = true)\n",
      " |-- PROMO_TYPES: string (nullable = true)\n",
      " |-- PROMO_NOTE: string (nullable = true)\n",
      " |-- THRESHOLD_TYPE: string (nullable = true)\n",
      " |-- ORDER_PROMO: string (nullable = true)\n",
      " |-- GOODS_IMPORT_TYPE: string (nullable = true)\n",
      " |-- CART_NAME: string (nullable = true)\n",
      " |-- INTERNET_YN: string (nullable = true)\n",
      " |-- MOBILE_YN: string (nullable = true)\n",
      " |-- TVAPP_YN: string (nullable = true)\n",
      " |-- IMPORTANT_YN: string (nullable = true)\n",
      " |-- CHECK_DATE: timestamp (nullable = true)\n",
      " |-- PROMO_TAG: string (nullable = true)\n",
      " |-- THRESHOLD_SHOW_YN: string (nullable = true)\n",
      " |-- ENTP_COMM_YN: string (nullable = true)\n",
      " |-- PROMO_MODIFY_DATE: timestamp (nullable = true)\n",
      " |-- ENTP_CODE: string (nullable = true)\n",
      "\n"
     ]
    }
   ],
   "source": [
    "sdf.printSchema()"
   ]
  },
  {
   "cell_type": "code",
   "execution_count": null,
   "metadata": {},
   "outputs": [],
   "source": []
  }
 ],
 "metadata": {
  "kernelspec": {
   "display_name": "spark-excercises",
   "language": "python",
   "name": "spark-excercises"
  },
  "language_info": {
   "codemirror_mode": {
    "name": "ipython",
    "version": 3
   },
   "file_extension": ".py",
   "mimetype": "text/x-python",
   "name": "python",
   "nbconvert_exporter": "python",
   "pygments_lexer": "ipython3",
   "version": "3.6.8"
  },
  "toc": {
   "base_numbering": 1,
   "nav_menu": {},
   "number_sections": true,
   "sideBar": true,
   "skip_h1_title": false,
   "title_cell": "Table of Contents",
   "title_sidebar": "Contents",
   "toc_cell": false,
   "toc_position": {},
   "toc_section_display": true,
   "toc_window_display": false
  }
 },
 "nbformat": 4,
 "nbformat_minor": 2
}
